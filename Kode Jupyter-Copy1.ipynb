{
 "cells": [
  {
   "cell_type": "markdown",
   "id": "1425106a",
   "metadata": {},
   "source": [
    "# Kode Jupyter"
   ]
  },
  {
   "cell_type": "markdown",
   "id": "829dd433",
   "metadata": {},
   "source": [
    "## Simple Syntax"
   ]
  },
  {
   "cell_type": "code",
   "execution_count": 2,
   "id": "1a8f3176",
   "metadata": {},
   "outputs": [
    {
     "name": "stdout",
     "output_type": "stream",
     "text": [
      "Hallo Kode!\n"
     ]
    }
   ],
   "source": [
    "print(\"Hallo Kode!\")"
   ]
  },
  {
   "cell_type": "code",
   "execution_count": 7,
   "id": "055f3345",
   "metadata": {},
   "outputs": [
    {
     "name": "stdout",
     "output_type": "stream",
     "text": [
      "1\n",
      "2\n",
      "3\n",
      "4\n",
      "5\n",
      "6\n",
      "7\n",
      "8\n",
      "9\n",
      "10\n"
     ]
    }
   ],
   "source": [
    "i = 1\n",
    "while(i <= 10):\n",
    "    print(i)\n",
    "    i = i+1"
   ]
  },
  {
   "cell_type": "markdown",
   "id": "bef36535",
   "metadata": {},
   "source": [
    "## Using Library"
   ]
  },
  {
   "cell_type": "code",
   "execution_count": 9,
   "id": "3d3f5559",
   "metadata": {},
   "outputs": [
    {
     "name": "stdout",
     "output_type": "stream",
     "text": [
      "Requirement already satisfied: pandas in c:\\users\\intan\\anaconda3\\lib\\site-packages (1.2.4)\n",
      "Requirement already satisfied: pytz>=2017.3 in c:\\users\\intan\\anaconda3\\lib\\site-packages (from pandas) (2021.1)\n",
      "Requirement already satisfied: python-dateutil>=2.7.3 in c:\\users\\intan\\anaconda3\\lib\\site-packages (from pandas) (2.8.1)\n",
      "Requirement already satisfied: numpy>=1.16.5 in c:\\users\\intan\\anaconda3\\lib\\site-packages (from pandas) (1.20.1)\n",
      "Requirement already satisfied: six>=1.5 in c:\\users\\intan\\anaconda3\\lib\\site-packages (from python-dateutil>=2.7.3->pandas) (1.15.0)\n",
      "Requirement already satisfied: numpy in c:\\users\\intan\\anaconda3\\lib\\site-packages (1.20.1)\n"
     ]
    }
   ],
   "source": [
    "!pip3 install pandas\n",
    "!pip3 install numpy"
   ]
  },
  {
   "cell_type": "code",
   "execution_count": 15,
   "id": "68546663",
   "metadata": {},
   "outputs": [
    {
     "name": "stdout",
     "output_type": "stream",
     "text": [
      "   A  B  C\n",
      "0  1  2  3\n",
      "1  4  5  6\n"
     ]
    }
   ],
   "source": [
    "import pandas as pd\n",
    "import numpy as np\n",
    "\n",
    "data = pd.DataFrame(data=np.array([[1, 2, 3], [4, 5, 6]], dtype=int), columns=['A', 'B', 'C'])\n",
    "print(data)"
   ]
  },
  {
   "cell_type": "markdown",
   "id": "8ddf4d49",
   "metadata": {},
   "source": [
    "## Using LaTex"
   ]
  },
  {
   "cell_type": "code",
   "execution_count": 18,
   "id": "beb9bab4",
   "metadata": {},
   "outputs": [
    {
     "data": {
      "text/latex": [
       "$\\displaystyle \\sqrt{a^2+b^2}$"
      ],
      "text/plain": [
       "<IPython.core.display.Math object>"
      ]
     },
     "metadata": {},
     "output_type": "display_data"
    }
   ],
   "source": [
    "from IPython.display import display, Math, Latex\n",
    "\n",
    "display(Math(r'\\sqrt{a^2+b^2}'))"
   ]
  },
  {
   "cell_type": "markdown",
   "id": "f7d6ca3b",
   "metadata": {},
   "source": [
    "## Executing Shell Commands"
   ]
  },
  {
   "cell_type": "code",
   "execution_count": 23,
   "id": "38f5aa60",
   "metadata": {},
   "outputs": [
    {
     "name": "stdout",
     "output_type": "stream",
     "text": [
      " Volume in drive C is Windows\n",
      " Volume Serial Number is 709D-070E\n",
      "\n",
      " Directory of C:\\Users\\intan\\A Python For Data Science\n",
      "\n",
      "16/08/2023  15:15    <DIR>          .\n",
      "16/08/2023  10:39    <DIR>          ..\n",
      "16/08/2023  08:32    <DIR>          .ipynb_checkpoints\n",
      "16/08/2023  15:15             4.840 Kode Jupyter.ipynb\n",
      "               1 File(s)          4.840 bytes\n",
      "               3 Dir(s)  121.251.028.992 bytes free\n",
      "C:\\Users\\intan\\A Python For Data Science\n",
      "'Halo Kode'\n"
     ]
    }
   ],
   "source": [
    "!dir\n",
    "!cd\n",
    "!echo 'Halo Kode'"
   ]
  },
  {
   "cell_type": "markdown",
   "id": "937ee095",
   "metadata": {},
   "source": [
    "# Widgets"
   ]
  },
  {
   "cell_type": "code",
   "execution_count": 4,
   "id": "042e7925",
   "metadata": {},
   "outputs": [
    {
     "name": "stdout",
     "output_type": "stream",
     "text": [
      "Requirement already satisfied: ipywidgets in c:\\users\\intan\\anaconda3\\lib\\site-packages (7.6.3)\n",
      "Requirement already satisfied: traitlets>=4.3.1 in c:\\users\\intan\\anaconda3\\lib\\site-packages (from ipywidgets) (5.0.5)\n",
      "Requirement already satisfied: widgetsnbextension~=3.5.0 in c:\\users\\intan\\anaconda3\\lib\\site-packages (from ipywidgets) (3.5.1)\n",
      "Requirement already satisfied: ipykernel>=4.5.1 in c:\\users\\intan\\anaconda3\\lib\\site-packages (from ipywidgets) (5.3.4)\n",
      "Requirement already satisfied: jupyterlab-widgets>=1.0.0 in c:\\users\\intan\\anaconda3\\lib\\site-packages (from ipywidgets) (1.0.0)\n",
      "Requirement already satisfied: ipython>=4.0.0 in c:\\users\\intan\\anaconda3\\lib\\site-packages (from ipywidgets) (7.22.0)\n",
      "Requirement already satisfied: nbformat>=4.2.0 in c:\\users\\intan\\anaconda3\\lib\\site-packages (from ipywidgets) (5.1.3)\n",
      "Requirement already satisfied: tornado>=4.2 in c:\\users\\intan\\anaconda3\\lib\\site-packages (from ipykernel>=4.5.1->ipywidgets) (6.1)\n",
      "Requirement already satisfied: jupyter-client in c:\\users\\intan\\anaconda3\\lib\\site-packages (from ipykernel>=4.5.1->ipywidgets) (6.1.12)\n",
      "Requirement already satisfied: setuptools>=18.5 in c:\\users\\intan\\anaconda3\\lib\\site-packages (from ipython>=4.0.0->ipywidgets) (52.0.0.post20210125)\n",
      "Requirement already satisfied: pygments in c:\\users\\intan\\anaconda3\\lib\\site-packages (from ipython>=4.0.0->ipywidgets) (2.8.1)\n",
      "Requirement already satisfied: decorator in c:\\users\\intan\\anaconda3\\lib\\site-packages (from ipython>=4.0.0->ipywidgets) (5.0.6)\n",
      "Requirement already satisfied: pickleshare in c:\\users\\intan\\anaconda3\\lib\\site-packages (from ipython>=4.0.0->ipywidgets) (0.7.5)\n",
      "Requirement already satisfied: jedi>=0.16 in c:\\users\\intan\\anaconda3\\lib\\site-packages (from ipython>=4.0.0->ipywidgets) (0.17.2)\n",
      "Requirement already satisfied: prompt-toolkit!=3.0.0,!=3.0.1,<3.1.0,>=2.0.0 in c:\\users\\intan\\anaconda3\\lib\\site-packages (from ipython>=4.0.0->ipywidgets) (3.0.17)\n",
      "Requirement already satisfied: colorama in c:\\users\\intan\\anaconda3\\lib\\site-packages (from ipython>=4.0.0->ipywidgets) (0.4.4)\n",
      "Requirement already satisfied: backcall in c:\\users\\intan\\anaconda3\\lib\\site-packages (from ipython>=4.0.0->ipywidgets) (0.2.0)\n",
      "Requirement already satisfied: parso<0.8.0,>=0.7.0 in c:\\users\\intan\\anaconda3\\lib\\site-packages (from jedi>=0.16->ipython>=4.0.0->ipywidgets) (0.7.0)\n",
      "Requirement already satisfied: jupyter-core in c:\\users\\intan\\anaconda3\\lib\\site-packages (from nbformat>=4.2.0->ipywidgets) (4.7.1)\n",
      "Requirement already satisfied: jsonschema!=2.5.0,>=2.4 in c:\\users\\intan\\anaconda3\\lib\\site-packages (from nbformat>=4.2.0->ipywidgets) (3.2.0)\n",
      "Requirement already satisfied: ipython-genutils in c:\\users\\intan\\anaconda3\\lib\\site-packages (from nbformat>=4.2.0->ipywidgets) (0.2.0)\n",
      "Requirement already satisfied: six>=1.11.0 in c:\\users\\intan\\anaconda3\\lib\\site-packages (from jsonschema!=2.5.0,>=2.4->nbformat>=4.2.0->ipywidgets) (1.15.0)\n",
      "Requirement already satisfied: pyrsistent>=0.14.0 in c:\\users\\intan\\anaconda3\\lib\\site-packages (from jsonschema!=2.5.0,>=2.4->nbformat>=4.2.0->ipywidgets) (0.17.3)\n",
      "Requirement already satisfied: attrs>=17.4.0 in c:\\users\\intan\\anaconda3\\lib\\site-packages (from jsonschema!=2.5.0,>=2.4->nbformat>=4.2.0->ipywidgets) (20.3.0)\n",
      "Requirement already satisfied: wcwidth in c:\\users\\intan\\anaconda3\\lib\\site-packages (from prompt-toolkit!=3.0.0,!=3.0.1,<3.1.0,>=2.0.0->ipython>=4.0.0->ipywidgets) (0.2.5)\n",
      "Requirement already satisfied: notebook>=4.4.1 in c:\\users\\intan\\anaconda3\\lib\\site-packages (from widgetsnbextension~=3.5.0->ipywidgets) (6.3.0)\n",
      "Requirement already satisfied: prometheus-client in c:\\users\\intan\\anaconda3\\lib\\site-packages (from notebook>=4.4.1->widgetsnbextension~=3.5.0->ipywidgets) (0.10.1)\n",
      "Requirement already satisfied: nbconvert in c:\\users\\intan\\anaconda3\\lib\\site-packages (from notebook>=4.4.1->widgetsnbextension~=3.5.0->ipywidgets) (6.0.7)\n",
      "Requirement already satisfied: pyzmq>=17 in c:\\users\\intan\\anaconda3\\lib\\site-packages (from notebook>=4.4.1->widgetsnbextension~=3.5.0->ipywidgets) (20.0.0)\n",
      "Requirement already satisfied: jinja2 in c:\\users\\intan\\anaconda3\\lib\\site-packages (from notebook>=4.4.1->widgetsnbextension~=3.5.0->ipywidgets) (2.11.3)\n",
      "Requirement already satisfied: terminado>=0.8.3 in c:\\users\\intan\\anaconda3\\lib\\site-packages (from notebook>=4.4.1->widgetsnbextension~=3.5.0->ipywidgets) (0.9.4)\n",
      "Requirement already satisfied: Send2Trash>=1.5.0 in c:\\users\\intan\\anaconda3\\lib\\site-packages (from notebook>=4.4.1->widgetsnbextension~=3.5.0->ipywidgets) (1.5.0)\n",
      "Requirement already satisfied: argon2-cffi in c:\\users\\intan\\anaconda3\\lib\\site-packages (from notebook>=4.4.1->widgetsnbextension~=3.5.0->ipywidgets) (20.1.0)\n",
      "Requirement already satisfied: python-dateutil>=2.1 in c:\\users\\intan\\anaconda3\\lib\\site-packages (from jupyter-client->ipykernel>=4.5.1->ipywidgets) (2.8.1)\n",
      "Requirement already satisfied: pywin32>=1.0 in c:\\users\\intan\\anaconda3\\lib\\site-packages (from jupyter-core->nbformat>=4.2.0->ipywidgets) (227)\n",
      "Requirement already satisfied: pywinpty>=0.5 in c:\\users\\intan\\anaconda3\\lib\\site-packages (from terminado>=0.8.3->notebook>=4.4.1->widgetsnbextension~=3.5.0->ipywidgets) (0.5.7)\n",
      "Requirement already satisfied: cffi>=1.0.0 in c:\\users\\intan\\anaconda3\\lib\\site-packages (from argon2-cffi->notebook>=4.4.1->widgetsnbextension~=3.5.0->ipywidgets) (1.14.5)\n",
      "Requirement already satisfied: pycparser in c:\\users\\intan\\anaconda3\\lib\\site-packages (from cffi>=1.0.0->argon2-cffi->notebook>=4.4.1->widgetsnbextension~=3.5.0->ipywidgets) (2.20)\n",
      "Requirement already satisfied: MarkupSafe>=0.23 in c:\\users\\intan\\anaconda3\\lib\\site-packages (from jinja2->notebook>=4.4.1->widgetsnbextension~=3.5.0->ipywidgets) (1.1.1)\n",
      "Requirement already satisfied: pandocfilters>=1.4.1 in c:\\users\\intan\\anaconda3\\lib\\site-packages (from nbconvert->notebook>=4.4.1->widgetsnbextension~=3.5.0->ipywidgets) (1.4.3)\n",
      "Requirement already satisfied: nbclient<0.6.0,>=0.5.0 in c:\\users\\intan\\anaconda3\\lib\\site-packages (from nbconvert->notebook>=4.4.1->widgetsnbextension~=3.5.0->ipywidgets) (0.5.3)\n",
      "Requirement already satisfied: jupyterlab-pygments in c:\\users\\intan\\anaconda3\\lib\\site-packages (from nbconvert->notebook>=4.4.1->widgetsnbextension~=3.5.0->ipywidgets) (0.1.2)\n",
      "Requirement already satisfied: bleach in c:\\users\\intan\\anaconda3\\lib\\site-packages (from nbconvert->notebook>=4.4.1->widgetsnbextension~=3.5.0->ipywidgets) (3.3.0)\n",
      "Requirement already satisfied: mistune<2,>=0.8.1 in c:\\users\\intan\\anaconda3\\lib\\site-packages (from nbconvert->notebook>=4.4.1->widgetsnbextension~=3.5.0->ipywidgets) (0.8.4)\n",
      "Requirement already satisfied: entrypoints>=0.2.2 in c:\\users\\intan\\anaconda3\\lib\\site-packages (from nbconvert->notebook>=4.4.1->widgetsnbextension~=3.5.0->ipywidgets) (0.3)\n",
      "Requirement already satisfied: testpath in c:\\users\\intan\\anaconda3\\lib\\site-packages (from nbconvert->notebook>=4.4.1->widgetsnbextension~=3.5.0->ipywidgets) (0.4.4)\n",
      "Requirement already satisfied: defusedxml in c:\\users\\intan\\anaconda3\\lib\\site-packages (from nbconvert->notebook>=4.4.1->widgetsnbextension~=3.5.0->ipywidgets) (0.7.1)\n",
      "Requirement already satisfied: async-generator in c:\\users\\intan\\anaconda3\\lib\\site-packages (from nbclient<0.6.0,>=0.5.0->nbconvert->notebook>=4.4.1->widgetsnbextension~=3.5.0->ipywidgets) (1.10)\n",
      "Requirement already satisfied: nest-asyncio in c:\\users\\intan\\anaconda3\\lib\\site-packages (from nbclient<0.6.0,>=0.5.0->nbconvert->notebook>=4.4.1->widgetsnbextension~=3.5.0->ipywidgets) (1.5.1)\n",
      "Requirement already satisfied: webencodings in c:\\users\\intan\\anaconda3\\lib\\site-packages (from bleach->nbconvert->notebook>=4.4.1->widgetsnbextension~=3.5.0->ipywidgets) (0.5.1)\n",
      "Requirement already satisfied: packaging in c:\\users\\intan\\anaconda3\\lib\\site-packages (from bleach->nbconvert->notebook>=4.4.1->widgetsnbextension~=3.5.0->ipywidgets) (20.9)\n",
      "Requirement already satisfied: pyparsing>=2.0.2 in c:\\users\\intan\\anaconda3\\lib\\site-packages (from packaging->bleach->nbconvert->notebook>=4.4.1->widgetsnbextension~=3.5.0->ipywidgets) (2.4.7)\n",
      "Note: you may need to restart the kernel to use updated packages.\n"
     ]
    }
   ],
   "source": [
    "pip install ipywidgets"
   ]
  },
  {
   "cell_type": "code",
   "execution_count": 6,
   "id": "29da3bad",
   "metadata": {},
   "outputs": [
    {
     "name": "stderr",
     "output_type": "stream",
     "text": [
      "Enabling notebook extension jupyter-js-widgets/extension...\n",
      "      - Validating: ok\n"
     ]
    }
   ],
   "source": [
    "!jupyter nbextension enable --py widgetsnbextension"
   ]
  },
  {
   "cell_type": "code",
   "execution_count": 48,
   "id": "30f58716",
   "metadata": {},
   "outputs": [
    {
     "name": "stderr",
     "output_type": "stream",
     "text": [
      "Enabling notebook extension jupyter-js-widgets/extension...\n",
      "      - Validating: ok\n"
     ]
    }
   ],
   "source": [
    "!jupyter nbextension enable --py --sys-prefix widgetsnbextension"
   ]
  },
  {
   "cell_type": "code",
   "execution_count": 1,
   "id": "dc4cf91b",
   "metadata": {},
   "outputs": [],
   "source": [
    "from ipywidgets import interact\n",
    "import ipywidgets as widgets"
   ]
  },
  {
   "cell_type": "markdown",
   "id": "2327ff8e",
   "metadata": {},
   "source": [
    "## Basic Slider"
   ]
  },
  {
   "cell_type": "code",
   "execution_count": 2,
   "id": "187843c5",
   "metadata": {
    "scrolled": true
   },
   "outputs": [
    {
     "data": {
      "application/vnd.jupyter.widget-view+json": {
       "model_id": "6ff9e93848364ba9af5f45c3840aa469",
       "version_major": 2,
       "version_minor": 0
      },
      "text/plain": [
       "interactive(children=(IntSlider(value=10, description='x', max=30, min=-10), Output()), _dom_classes=('widget-…"
      ]
     },
     "metadata": {},
     "output_type": "display_data"
    },
    {
     "data": {
      "text/plain": [
       "<function __main__.f(x)>"
      ]
     },
     "execution_count": 2,
     "metadata": {},
     "output_type": "execute_result"
    }
   ],
   "source": [
    "def f(x):\n",
    "    return x\n",
    "\n",
    "\n",
    "interact(f, x=10,)"
   ]
  },
  {
   "cell_type": "markdown",
   "id": "d705cafe",
   "metadata": {},
   "source": [
    "## Checkbox"
   ]
  },
  {
   "cell_type": "code",
   "execution_count": 3,
   "id": "114949f6",
   "metadata": {},
   "outputs": [
    {
     "data": {
      "application/vnd.jupyter.widget-view+json": {
       "model_id": "59b313e7b0d342d4ad8744497ae387e6",
       "version_major": 2,
       "version_minor": 0
      },
      "text/plain": [
       "interactive(children=(Checkbox(value=True, description='x'), Output()), _dom_classes=('widget-interact',))"
      ]
     },
     "metadata": {},
     "output_type": "display_data"
    },
    {
     "data": {
      "text/plain": [
       "<function __main__.f(x)>"
      ]
     },
     "execution_count": 3,
     "metadata": {},
     "output_type": "execute_result"
    }
   ],
   "source": [
    "interact (f, x=True)"
   ]
  },
  {
   "cell_type": "markdown",
   "id": "d39c1d06",
   "metadata": {},
   "source": [
    "## Textbox"
   ]
  },
  {
   "cell_type": "code",
   "execution_count": 4,
   "id": "fc6a354f",
   "metadata": {},
   "outputs": [
    {
     "data": {
      "application/vnd.jupyter.widget-view+json": {
       "model_id": "d5825c52576146a4801d343022710ca1",
       "version_major": 2,
       "version_minor": 0
      },
      "text/plain": [
       "interactive(children=(Text(value='Hi Kode!', description='x'), Output()), _dom_classes=('widget-interact',))"
      ]
     },
     "metadata": {},
     "output_type": "display_data"
    },
    {
     "data": {
      "text/plain": [
       "<function __main__.f(x)>"
      ]
     },
     "execution_count": 4,
     "metadata": {},
     "output_type": "execute_result"
    }
   ],
   "source": [
    "interact(f, x=\"Hi Kode!\")"
   ]
  },
  {
   "cell_type": "markdown",
   "id": "cbe98190",
   "metadata": {},
   "source": [
    "## Play Button"
   ]
  },
  {
   "cell_type": "code",
   "execution_count": 5,
   "id": "4fdbd571",
   "metadata": {},
   "outputs": [
    {
     "data": {
      "application/vnd.jupyter.widget-view+json": {
       "model_id": "c8e3babfcf7c4cb88782342a5a45478e",
       "version_major": 2,
       "version_minor": 0
      },
      "text/plain": [
       "HBox(children=(Play(value=50, description='Tekan Play'), IntSlider(value=0)))"
      ]
     },
     "metadata": {},
     "output_type": "display_data"
    }
   ],
   "source": [
    "play=widgets.Play(\n",
    "value=50,\n",
    "min=0,\n",
    "max=100,\n",
    "step=1,\n",
    "description='Tekan Play',\n",
    "disabled=False)\n",
    "slider=widgets.IntSlider()\n",
    "widgets.jslink((play, 'value'), (slider, 'value'))\n",
    "widgets.HBox((play,slider))"
   ]
  },
  {
   "cell_type": "code",
   "execution_count": 6,
   "id": "1dfd87d1",
   "metadata": {},
   "outputs": [
    {
     "data": {
      "application/vnd.jupyter.widget-view+json": {
       "model_id": "9abb7bcce54d4361ba5ca468319e7939",
       "version_major": 2,
       "version_minor": 0
      },
      "text/plain": [
       "DatePicker(value=None, description='Pilih Tanggal')"
      ]
     },
     "metadata": {},
     "output_type": "display_data"
    }
   ],
   "source": [
    "widgets.DatePicker(\n",
    "    description='Pilih Tanggal',\n",
    "    disabled=False\n",
    ")"
   ]
  },
  {
   "cell_type": "code",
   "execution_count": 9,
   "id": "70883e96",
   "metadata": {},
   "outputs": [
    {
     "data": {
      "application/vnd.jupyter.widget-view+json": {
       "model_id": "21637cdc3c7a40748e21fae29a3f311c",
       "version_major": 2,
       "version_minor": 0
      },
      "text/plain": [
       "Tab(children=(Text(value='', description='K0'), Text(value='', description='K1'), Text(value='', description='…"
      ]
     },
     "metadata": {},
     "output_type": "display_data"
    }
   ],
   "source": [
    "tab_contents=['K0', 'K1', 'K2', 'K3', 'K4']\n",
    "children=[widgets.Text(description=name) for name in tab_contents]\n",
    "tab=widgets.Tab()\n",
    "tab.children=children\n",
    "for i in range(len(children)):\n",
    "    tab.set_title(i, str(i))\n",
    "tab"
   ]
  },
  {
   "cell_type": "markdown",
   "id": "55fc4845",
   "metadata": {},
   "source": [
    "# If Statement"
   ]
  },
  {
   "cell_type": "code",
   "execution_count": 10,
   "id": "06be980e",
   "metadata": {},
   "outputs": [
    {
     "name": "stdout",
     "output_type": "stream",
     "text": [
      "yes\n",
      "yes\n",
      "yes\n"
     ]
    }
   ],
   "source": [
    "x=0\n",
    "y=5\n",
    "\n",
    "if x<y:\n",
    "    print('yes')\n",
    "if y<x:\n",
    "    print('yes')\n",
    "if x:\n",
    "    print('yes')\n",
    "if y:\n",
    "    print('yes')\n",
    "if 'aul' in 'grault':\n",
    "    print('yes')\n",
    "if 'quux' in ['foo', 'bar', 'baz']:\n",
    "    print('yes')"
   ]
  },
  {
   "cell_type": "code",
   "execution_count": 11,
   "id": "dc39249e",
   "metadata": {},
   "outputs": [
    {
     "name": "stdout",
     "output_type": "stream",
     "text": [
      "After conditionel\n"
     ]
    }
   ],
   "source": [
    "if 'foo' in ['bar', 'baz', 'qux']:\n",
    "    print('Expression was true')\n",
    "    print('Executing statement in suite')\n",
    "    print('...')\n",
    "    print('Done.')\n",
    "print('After conditionel')"
   ]
  },
  {
   "cell_type": "code",
   "execution_count": 12,
   "id": "6554ea72",
   "metadata": {},
   "outputs": [
    {
     "name": "stdout",
     "output_type": "stream",
     "text": [
      "benar\n"
     ]
    }
   ],
   "source": [
    "i=5\n",
    "\n",
    "if i<6:\n",
    "    print('benar')\n",
    "else:\n",
    "    printnt('salah')"
   ]
  },
  {
   "cell_type": "code",
   "execution_count": 14,
   "id": "92b272d9",
   "metadata": {},
   "outputs": [
    {
     "name": "stdout",
     "output_type": "stream",
     "text": [
      "2\n"
     ]
    }
   ],
   "source": [
    "x=8\n",
    "\n",
    "if x==9:\n",
    "    print('1')\n",
    "elif x<9:\n",
    "    print('2')\n",
    "elif x>9:\n",
    "    print('3')"
   ]
  },
  {
   "cell_type": "code",
   "execution_count": 15,
   "id": "87f9f97b",
   "metadata": {},
   "outputs": [
    {
     "name": "stdout",
     "output_type": "stream",
     "text": [
      "2\n"
     ]
    }
   ],
   "source": [
    "x=8\n",
    "\n",
    "if x==9:\n",
    "    print('1')\n",
    "elif x<9:\n",
    "    print('2')\n",
    "else:\n",
    "    print('3')"
   ]
  },
  {
   "cell_type": "code",
   "execution_count": 16,
   "id": "3bb841ed",
   "metadata": {},
   "outputs": [
    {
     "name": "stdout",
     "output_type": "stream",
     "text": [
      "c\n",
      "d\n"
     ]
    }
   ],
   "source": [
    "x=2\n",
    "\n",
    "if x==1: print('a'); print('b')\n",
    "elif x==2: print('c'); print('d')"
   ]
  },
  {
   "cell_type": "code",
   "execution_count": 19,
   "id": "dae5b7ea",
   "metadata": {},
   "outputs": [
    {
     "data": {
      "text/plain": [
       "'teen'"
      ]
     },
     "execution_count": 19,
     "metadata": {},
     "output_type": "execute_result"
    }
   ],
   "source": [
    "umur=20\n",
    "\n",
    "a='teen' if umur<21 else 'old'\n",
    "a"
   ]
  },
  {
   "cell_type": "code",
   "execution_count": 20,
   "id": "3d440fbd",
   "metadata": {},
   "outputs": [
    {
     "name": "stdout",
     "output_type": "stream",
     "text": [
      "hi\n"
     ]
    }
   ],
   "source": [
    "if True:\n",
    "    pass\n",
    "print('hi')"
   ]
  },
  {
   "cell_type": "markdown",
   "id": "9b36cf0b",
   "metadata": {},
   "source": [
    "# While Loops"
   ]
  },
  {
   "cell_type": "code",
   "execution_count": 22,
   "id": "f2bd2680",
   "metadata": {},
   "outputs": [
    {
     "name": "stdout",
     "output_type": "stream",
     "text": [
      "4\n",
      "3\n",
      "2\n",
      "1\n",
      "0\n"
     ]
    }
   ],
   "source": [
    "n=5\n",
    "while n>0:\n",
    "    n-=1\n",
    "    print(n)"
   ]
  },
  {
   "cell_type": "markdown",
   "id": "a6a3482d",
   "metadata": {},
   "source": [
    "## Break"
   ]
  },
  {
   "cell_type": "code",
   "execution_count": 23,
   "id": "5132f1a8",
   "metadata": {},
   "outputs": [
    {
     "name": "stdout",
     "output_type": "stream",
     "text": [
      "4\n",
      "3\n",
      "loop ended\n"
     ]
    }
   ],
   "source": [
    "n=5\n",
    "while n>0:\n",
    "    n-=1\n",
    "    if n==2:\n",
    "        break\n",
    "    print(n)b\n",
    "print('loop ended')"
   ]
  },
  {
   "cell_type": "markdown",
   "id": "3db0282f",
   "metadata": {},
   "source": [
    "## Continue"
   ]
  },
  {
   "cell_type": "code",
   "execution_count": 24,
   "id": "fad04f7a",
   "metadata": {},
   "outputs": [
    {
     "name": "stdout",
     "output_type": "stream",
     "text": [
      "4\n",
      "3\n",
      "1\n",
      "0\n",
      "loop ended\n"
     ]
    }
   ],
   "source": [
    "n=5\n",
    "while n>0:\n",
    "    n-=1\n",
    "    if n==2:\n",
    "        continue\n",
    "    print(n)\n",
    "print('loop ended')"
   ]
  },
  {
   "cell_type": "markdown",
   "id": "661cc9f4",
   "metadata": {},
   "source": [
    "## Else Clause"
   ]
  },
  {
   "cell_type": "code",
   "execution_count": 25,
   "id": "400356e5",
   "metadata": {},
   "outputs": [
    {
     "name": "stdout",
     "output_type": "stream",
     "text": [
      "4\n",
      "3\n",
      "2\n",
      "1\n",
      "0\n",
      "loop done\n"
     ]
    }
   ],
   "source": [
    "n=5\n",
    "while n>0:\n",
    "    n-=1\n",
    "    print(n)\n",
    "else:\n",
    "    print('loop done')\n",
    "    \n",
    "#karena loop diulang hingga kondisi habis"
   ]
  },
  {
   "cell_type": "code",
   "execution_count": 26,
   "id": "656da5d2",
   "metadata": {},
   "outputs": [
    {
     "name": "stdout",
     "output_type": "stream",
     "text": [
      "4\n",
      "3\n",
      "2\n"
     ]
    }
   ],
   "source": [
    "n=5\n",
    "while n>0:\n",
    "    n-=1\n",
    "    print(n)\n",
    "    if n==2:\n",
    "        break\n",
    "else:\n",
    "    print('loop done')\n",
    "    \n",
    "#karena diakhiri sebelum waktunya oleh break"
   ]
  },
  {
   "cell_type": "markdown",
   "id": "d1a34f90",
   "metadata": {},
   "source": [
    "## Infinite Loops"
   ]
  },
  {
   "cell_type": "code",
   "execution_count": null,
   "id": "4f53a710",
   "metadata": {},
   "outputs": [],
   "source": [
    "while True:\n",
    "    print('foo')"
   ]
  },
  {
   "cell_type": "markdown",
   "id": "99715ba0",
   "metadata": {},
   "source": [
    "## Nested While Loops"
   ]
  },
  {
   "cell_type": "code",
   "execution_count": 3,
   "id": "e50cbc68",
   "metadata": {},
   "outputs": [
    {
     "name": "stdout",
     "output_type": "stream",
     "text": [
      "father\n"
     ]
    }
   ],
   "source": [
    "umur=20\n",
    "jk='M'\n",
    "\n",
    "if umur<18:\n",
    "    if jk == 'M':\n",
    "        print('son')\n",
    "    else:\n",
    "        print('daughter')\n",
    "elif umur>=18 and umur<50:\n",
    "    if jk == 'M':\n",
    "        print('father')\n",
    "    else:\n",
    "        print('mother')"
   ]
  },
  {
   "cell_type": "code",
   "execution_count": 2,
   "id": "5c0eef6c",
   "metadata": {},
   "outputs": [
    {
     "name": "stdout",
     "output_type": "stream",
     "text": [
      "foo\n",
      "> baz\n",
      "> qux\n",
      "bar\n",
      "> baz\n",
      "> qux\n"
     ]
    }
   ],
   "source": [
    "a=['foo', 'bar']\n",
    "\n",
    "while len(a):\n",
    "    print(a.pop(0))\n",
    "    \n",
    "    b=['baz', 'qux']\n",
    "    \n",
    "    while len(b):\n",
    "        print('>', b.pop(0))"
   ]
  },
  {
   "cell_type": "markdown",
   "id": "1b176867",
   "metadata": {},
   "source": [
    "## One-Line While Loops"
   ]
  },
  {
   "cell_type": "code",
   "execution_count": 1,
   "id": "b4b77a0f",
   "metadata": {},
   "outputs": [
    {
     "name": "stdout",
     "output_type": "stream",
     "text": [
      "4\n",
      "3\n",
      "2\n",
      "1\n",
      "0\n"
     ]
    }
   ],
   "source": [
    "n=5\n",
    "while n>0: n-=1; print(n)"
   ]
  },
  {
   "cell_type": "markdown",
   "id": "3dfa7b36",
   "metadata": {},
   "source": [
    "# For Loops"
   ]
  },
  {
   "cell_type": "code",
   "execution_count": 6,
   "id": "051c96ee",
   "metadata": {},
   "outputs": [
    {
     "name": "stdout",
     "output_type": "stream",
     "text": [
      "foo\n",
      "bar\n",
      "baz\n"
     ]
    }
   ],
   "source": [
    "a=['foo', 'bar', 'baz']\n",
    "for i in a:\n",
    "    print(i)"
   ]
  },
  {
   "cell_type": "code",
   "execution_count": 8,
   "id": "e07a3eb2",
   "metadata": {},
   "outputs": [
    {
     "name": "stdout",
     "output_type": "stream",
     "text": [
      "foo\n",
      "bar\n",
      "baz\n"
     ]
    }
   ],
   "source": [
    "a={'foo': 1, 'bar': 2, 'baz': 3}\n",
    "for i in a:\n",
    "    print(i)"
   ]
  },
  {
   "cell_type": "code",
   "execution_count": 13,
   "id": "9818cb1c",
   "metadata": {},
   "outputs": [
    {
     "name": "stdout",
     "output_type": "stream",
     "text": [
      "1\n",
      "2\n",
      "3\n",
      "1\n",
      "2\n",
      "3\n",
      "foo : 1\n",
      "bar : 2\n",
      "baz : 3\n"
     ]
    }
   ],
   "source": [
    "for i in a:\n",
    "    print(a[i])\n",
    "    \n",
    "for i in a.values():\n",
    "    print(i)\n",
    "    \n",
    "for i, j in a.items():\n",
    "    print(i, \":\", j)"
   ]
  },
  {
   "cell_type": "markdown",
   "id": "73873d13",
   "metadata": {},
   "source": [
    "## Numerik Range Loop"
   ]
  },
  {
   "cell_type": "code",
   "execution_count": 5,
   "id": "86c04840",
   "metadata": {
    "scrolled": true
   },
   "outputs": [
    {
     "ename": "SyntaxError",
     "evalue": "invalid syntax (<ipython-input-5-66462fd612e2>, line 1)",
     "output_type": "error",
     "traceback": [
      "\u001b[1;36m  File \u001b[1;32m\"<ipython-input-5-66462fd612e2>\"\u001b[1;36m, line \u001b[1;32m1\u001b[0m\n\u001b[1;33m    for i==1 to 10\u001b[0m\n\u001b[1;37m         ^\u001b[0m\n\u001b[1;31mSyntaxError\u001b[0m\u001b[1;31m:\u001b[0m invalid syntax\n"
     ]
    }
   ],
   "source": [
    "for i=1 to 10\n",
    "    <loop body>"
   ]
  },
  {
   "cell_type": "markdown",
   "id": "e41596c6",
   "metadata": {},
   "source": [
    "## Three Expression Loop"
   ]
  },
  {
   "cell_type": "code",
   "execution_count": null,
   "id": "a69dc9db",
   "metadata": {},
   "outputs": [],
   "source": [
    "for (i=1; i<=10; i++)\n",
    "    <loop body>"
   ]
  },
  {
   "cell_type": "markdown",
   "id": "fa2d88a2",
   "metadata": {},
   "source": [
    "## Collection-Based or Iterator-Based Loop"
   ]
  },
  {
   "cell_type": "code",
   "execution_count": null,
   "id": "5f4d5628",
   "metadata": {},
   "outputs": [],
   "source": [
    "for i in <collection>\n",
    "    <loop body>"
   ]
  },
  {
   "cell_type": "markdown",
   "id": "df907d4c",
   "metadata": {},
   "source": [
    "## Break and Continue"
   ]
  },
  {
   "cell_type": "code",
   "execution_count": 15,
   "id": "e9b6a9a1",
   "metadata": {},
   "outputs": [
    {
     "name": "stdout",
     "output_type": "stream",
     "text": [
      "foo\n"
     ]
    }
   ],
   "source": [
    "a=['foo', 'bar', 'baz', 'qux']\n",
    "for i in a:\n",
    "    if 'b' in i:\n",
    "        break\n",
    "    print(i)"
   ]
  },
  {
   "cell_type": "code",
   "execution_count": 16,
   "id": "e1a56484",
   "metadata": {},
   "outputs": [
    {
     "name": "stdout",
     "output_type": "stream",
     "text": [
      "foo\n",
      "qux\n"
     ]
    }
   ],
   "source": [
    "a=['foo', 'bar', 'baz', 'qux']\n",
    "for i in a:\n",
    "    if 'b' in i:\n",
    "        continue\n",
    "    print(i)"
   ]
  },
  {
   "cell_type": "markdown",
   "id": "d2023e58",
   "metadata": {},
   "source": [
    "## Else Clause"
   ]
  },
  {
   "cell_type": "code",
   "execution_count": 17,
   "id": "91ece349",
   "metadata": {
    "scrolled": true
   },
   "outputs": [
    {
     "name": "stdout",
     "output_type": "stream",
     "text": [
      "foo\n",
      "bar\n",
      "baz\n",
      "qux\n",
      "Done\n"
     ]
    }
   ],
   "source": [
    "for i in ['foo', 'bar', 'baz', 'qux']:\n",
    "    print(i)\n",
    "else:\n",
    "    print('Done')"
   ]
  },
  {
   "cell_type": "code",
   "execution_count": null,
   "id": "9657fdbe",
   "metadata": {},
   "outputs": [],
   "source": [
    "for i in ['foo', 'bar', 'baz', 'qux']:\n",
    "    if i=='bar':\n",
    "        break\n",
    "    print(i)\n",
    "else:\n",
    "    print('Done')"
   ]
  }
 ],
 "metadata": {
  "kernelspec": {
   "display_name": "Python 3",
   "language": "python",
   "name": "python3"
  },
  "language_info": {
   "codemirror_mode": {
    "name": "ipython",
    "version": 3
   },
   "file_extension": ".py",
   "mimetype": "text/x-python",
   "name": "python",
   "nbconvert_exporter": "python",
   "pygments_lexer": "ipython3",
   "version": "3.8.8"
  },
  "toc": {
   "base_numbering": 1,
   "nav_menu": {},
   "number_sections": true,
   "sideBar": true,
   "skip_h1_title": false,
   "title_cell": "Table of Contents",
   "title_sidebar": "Contents",
   "toc_cell": false,
   "toc_position": {
    "height": "calc(100% - 180px)",
    "left": "10px",
    "top": "150px",
    "width": "165px"
   },
   "toc_section_display": true,
   "toc_window_display": true
  }
 },
 "nbformat": 4,
 "nbformat_minor": 5
}
