{
 "cells": [
  {
   "cell_type": "code",
   "execution_count": 4,
   "id": "68852f80",
   "metadata": {},
   "outputs": [
    {
     "name": "stderr",
     "output_type": "stream",
     "text": [
      "[NbConvertApp] Converting notebook mod.ipynb to script\n",
      "[NbConvertApp] Writing 251 bytes to mod.py\n"
     ]
    }
   ],
   "source": [
    "!jupyter nbconvert --to script mod.ipynb"
   ]
  },
  {
   "cell_type": "code",
   "execution_count": 14,
   "id": "e74074bb",
   "metadata": {},
   "outputs": [
    {
     "name": "stdout",
     "output_type": "stream",
     "text": [
      "a=  [100, 200, 300]\n",
      "Hacktiv8-PTP Python For Data Science\n",
      "[100, 200, 300]\n",
      "arg=quux\n",
      "<__main__.Foo object at 0x000001D86E127790>\n"
     ]
    }
   ],
   "source": [
    "s=\"Hacktiv8-PTP Python For Data Science\"\n",
    "a=[100, 200, 300]\n",
    "\n",
    "def foo(arg):\n",
    "    print(f'arg={arg}')\n",
    "    \n",
    "class Foo:\n",
    "    pass\n",
    "\n",
    "if(__name__=='__main__'):\n",
    "    print(s)\n",
    "    print(a)\n",
    "    foo('quux')\n",
    "    x=Foo()\n",
    "    print(x)"
   ]
  },
  {
   "cell_type": "code",
   "execution_count": null,
   "id": "378d6eb8",
   "metadata": {},
   "outputs": [],
   "source": []
  }
 ],
 "metadata": {
  "kernelspec": {
   "display_name": "Python 3",
   "language": "python",
   "name": "python3"
  },
  "language_info": {
   "codemirror_mode": {
    "name": "ipython",
    "version": 3
   },
   "file_extension": ".py",
   "mimetype": "text/x-python",
   "name": "python",
   "nbconvert_exporter": "python",
   "pygments_lexer": "ipython3",
   "version": "3.8.8"
  },
  "toc": {
   "base_numbering": 1,
   "nav_menu": {},
   "number_sections": true,
   "sideBar": true,
   "skip_h1_title": false,
   "title_cell": "Table of Contents",
   "title_sidebar": "Contents",
   "toc_cell": false,
   "toc_position": {},
   "toc_section_display": true,
   "toc_window_display": false
  }
 },
 "nbformat": 4,
 "nbformat_minor": 5
}
