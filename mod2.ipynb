{
 "cells": [
  {
   "cell_type": "code",
   "execution_count": 2,
   "id": "ec92eeb4",
   "metadata": {},
   "outputs": [
    {
     "name": "stderr",
     "output_type": "stream",
     "text": [
      "[NbConvertApp] Converting notebook mod2.ipynb to script\n",
      "[NbConvertApp] Writing 0 bytes to mod2.txt\n"
     ]
    }
   ],
   "source": [
    "!jupyter nbconvert --to script mod2.ipynb"
   ]
  },
  {
   "cell_type": "code",
   "execution_count": 1,
   "id": "e14e2c9c",
   "metadata": {},
   "outputs": [],
   "source": [
    "def bar():\n",
    "    print('[mod2] bar()')\n",
    "    \n",
    "class Bar:\n",
    "    pass"
   ]
  },
  {
   "cell_type": "markdown",
   "id": "28695be8",
   "metadata": {},
   "source": [
    "pkg/\n",
    "├── __init__.py\n",
    "├── mod1.py\n",
    "├── mod2.py\n"
   ]
  }
 ],
 "metadata": {
  "kernelspec": {
   "display_name": "Python 3",
   "language": "python",
   "name": "python3"
  },
  "language_info": {
   "codemirror_mode": {
    "name": "ipython",
    "version": 3
   },
   "file_extension": ".py",
   "mimetype": "text/x-python",
   "name": "python",
   "nbconvert_exporter": "python",
   "pygments_lexer": "ipython3",
   "version": "3.8.8"
  },
  "toc": {
   "base_numbering": 1,
   "nav_menu": {},
   "number_sections": true,
   "sideBar": true,
   "skip_h1_title": false,
   "title_cell": "Table of Contents",
   "title_sidebar": "Contents",
   "toc_cell": false,
   "toc_position": {},
   "toc_section_display": true,
   "toc_window_display": false
  }
 },
 "nbformat": 4,
 "nbformat_minor": 5
}
